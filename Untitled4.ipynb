{
 "cells": [
  {
   "cell_type": "code",
   "execution_count": 2,
   "metadata": {},
   "outputs": [],
   "source": [
    "class Wizard:\n",
    "  def __init__(self, health, mana, armor):\n",
    "    self.health = health\n",
    "    self.mana = mana\n",
    "    self.armor = armor\n",
    "  def attack(self):\n",
    "    return '파이어볼'\n"
   ]
  },
  {
   "cell_type": "code",
   "execution_count": 4,
   "metadata": {},
   "outputs": [
    {
     "name": "stdout",
     "output_type": "stream",
     "text": [
      "545 210 10\n"
     ]
    },
    {
     "data": {
      "text/plain": [
       "<bound method Wizard.attack of <__main__.Wizard object at 0x0000029A2C150048>>"
      ]
     },
     "execution_count": 4,
     "metadata": {},
     "output_type": "execute_result"
    }
   ],
   "source": [
    "x = Wizard(health = 545, mana = 210, armor = 10)\n",
    "print(x.health, x.mana, x.armor)\n",
    "x.attack"
   ]
  },
  {
   "cell_type": "code",
   "execution_count": 6,
   "metadata": {},
   "outputs": [
    {
     "name": "stdout",
     "output_type": "stream",
     "text": [
      "몇단짜리 크리스마스 트리를 원하시나요?5\n",
      "        *\n",
      "        ***\n",
      "        *****\n",
      "        *******\n",
      "        *********\n"
     ]
    }
   ],
   "source": [
    "n = int(input('몇단짜리 크리스마스 트리를 원하시나요?'))\n",
    "for i in range(1, n+1):\n",
    "    print(\"  \"* (n-1) + \"*\" * (2*i-1))"
   ]
  },
  {
   "cell_type": "code",
   "execution_count": 8,
   "metadata": {},
   "outputs": [
    {
     "ename": "IndentationError",
     "evalue": "unindent does not match any outer indentation level (<tokenize>, line 3)",
     "output_type": "error",
     "traceback": [
      "\u001b[1;36m  File \u001b[1;32m\"<tokenize>\"\u001b[1;36m, line \u001b[1;32m3\u001b[0m\n\u001b[1;33m    *****\u001b[0m\n\u001b[1;37m    ^\u001b[0m\n\u001b[1;31mIndentationError\u001b[0m\u001b[1;31m:\u001b[0m unindent does not match any outer indentation level\n"
     ]
    }
   ],
   "source": [
    "   *\n",
    "  ***\n",
    " *****\n",
    "*******"
   ]
  },
  {
   "cell_type": "code",
   "execution_count": null,
   "metadata": {},
   "outputs": [],
   "source": [
    "n = int(input())\n",
    "def triangleShape(n):\n",
    "    for i in range(n):\n",
    "        for j in range(n-i):\n",
    "            print(' ', end=' ')\n",
    "        for k in range(2*i+1):\n",
    "            print('*',end=' ')\n",
    "        print()"
   ]
  },
  {
   "cell_type": "code",
   "execution_count": null,
   "metadata": {},
   "outputs": [],
   "source": [
    "try:\n",
    "    phnb = input()\n",
    "    phnb1 = phnb.split(\"-\")\n",
    "    if phnb1[0] == \"011\":\n",
    "        com = \"SKT\"\n",
    "    elif phnb1[0] == \"016\":\n",
    "        com = \"KT\"\n",
    "    elif phnb1[0] == \"019\":\n",
    "        com = \"LGU\"\n",
    "    print(f\"당신은 {com} 사용자 입니다.\")\n",
    "    except SyntaxError:\n",
    "        print(\" 모릅니다 .\")"
   ]
  },
  {
   "cell_type": "code",
   "execution_count": null,
   "metadata": {},
   "outputs": [],
   "source": []
  }
 ],
 "metadata": {
  "kernelspec": {
   "display_name": "Python 3",
   "language": "python",
   "name": "python3"
  },
  "language_info": {
   "codemirror_mode": {
    "name": "ipython",
    "version": 3
   },
   "file_extension": ".py",
   "mimetype": "text/x-python",
   "name": "python",
   "nbconvert_exporter": "python",
   "pygments_lexer": "ipython3",
   "version": "3.7.6"
  }
 },
 "nbformat": 4,
 "nbformat_minor": 4
}
