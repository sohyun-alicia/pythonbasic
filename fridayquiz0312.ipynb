{
 "cells": [
  {
   "cell_type": "code",
   "execution_count": 5,
   "metadata": {},
   "outputs": [
    {
     "name": "stdout",
     "output_type": "stream",
     "text": [
      "5 명\n"
     ]
    }
   ],
   "source": [
    "# 1. 중복값 제거한 인원 구하기\n",
    "\n",
    "people = [\n",
    "    ('이호준', '01050442903'),\n",
    "    ('이호상', '01051442904'),\n",
    "    ('이준호', '01050342904'),\n",
    "    ('이호준', '01050442903'),\n",
    "    ('이준', '01050412904'),\n",
    "    ('이호', '01050443904'),\n",
    "    ('이호준', '01050442903'),\n",
    "]\n",
    "\n",
    "print(len(set(people)),'명')"
   ]
  },
  {
   "cell_type": "code",
   "execution_count": 9,
   "metadata": {},
   "outputs": [
    {
     "name": "stdout",
     "output_type": "stream",
     "text": [
      "Spring is coming\n",
      "sPRING IS COMING\n"
     ]
    }
   ],
   "source": [
    "# 2. 입력된 텍스트의 대소문자 변환하기\n",
    "\n",
    "print(input().swapcase()) # swapcase(대소문자 변환) 함수 사용"
   ]
  },
  {
   "cell_type": "code",
   "execution_count": 17,
   "metadata": {},
   "outputs": [
    {
     "name": "stdout",
     "output_type": "stream",
     "text": [
      "Spring has come\n",
      "sPRING HAS COME"
     ]
    }
   ],
   "source": [
    "for i in range(len(input())):          # for 함수 사용, 입력된 값 길이만큼 반복\n",
    "    if txt[i].isupper():               # 만약 입력값의 각 자리가 대문자라면\n",
    "        print(txt[i].lower(), end='')  # 소문자로 변환 출력\n",
    "    else:                              # 그 외(소문자인) 경우에는\n",
    "        print(txt[i].upper(), end='')  # 대문자로 출력"
   ]
  },
  {
   "cell_type": "code",
   "execution_count": 32,
   "metadata": {},
   "outputs": [
    {
     "name": "stdout",
     "output_type": "stream",
     "text": [
      "34 65 8\n",
      "65\n"
     ]
    }
   ],
   "source": [
    "# 3. 순서 없이 공백으로 주어지는 숫자 중에 최댓값 반환하기\n",
    "\n",
    "num = input().split(' ')       # 입력된 값을 공백으로 나누기(개별값은 str으로 저장됨)\n",
    "print(max(map(int, num)))      # 각 값을 int로 변환해주고, 그 중 최댓값 구하기"
   ]
  },
  {
   "cell_type": "code",
   "execution_count": 41,
   "metadata": {},
   "outputs": [
    {
     "name": "stdout",
     "output_type": "stream",
     "text": [
      "34 2 64\n",
      "64\n"
     ]
    }
   ],
   "source": [
    "num = list(map(int, input().split(' ')))   # 입력된 값을 리스트 안에 정수로 저장\n",
    "a = 0                                      # a값 0으로 설정(비교 대상)\n",
    "for i in range(len(num)):                 # 입력된 값 길이 안에서 for문으로 반복\n",
    "    if num[i] > a:                        # 만약 각 값이 a보다 크다면\n",
    "        a = num[i]                        # a에 해당 값 대입\n",
    "print(num[i])                             # 가장 큰 값(마지막에 저장된 a값) 출력"
   ]
  },
  {
   "cell_type": "code",
   "execution_count": 43,
   "metadata": {},
   "outputs": [
    {
     "name": "stdout",
     "output_type": "stream",
     "text": [
      "20 54 65\n",
      "65\n"
     ]
    }
   ],
   "source": [
    "num = sorted(list(map(int, input().split(' '))))\n",
    "print(num[-1])"
   ]
  },
  {
   "cell_type": "code",
   "execution_count": 60,
   "metadata": {},
   "outputs": [
    {
     "name": "stdout",
     "output_type": "stream",
     "text": [
      "번호: 1, 이름:강은지\n",
      "번호: 2, 이름:강채연\n",
      "번호: 3, 이름:권윤일\n",
      "번호: 4, 이름:김민호\n",
      "번호: 5, 이름:김유정\n",
      "번호: 6, 이름:김진이\n",
      "번호: 7, 이름:김채리\n",
      "번호: 8, 이름:박지호\n",
      "번호: 9, 이름:박현서\n",
      "번호: 10, 이름:최성훈\n",
      "번호: 11, 이름:한지호\n",
      "번호: 12, 이름:홍유진\n"
     ]
    }
   ],
   "source": [
    "# 4. 입력된 이름을 가나다 순으로 배정하고, 번호 매겨서 출력하기\n",
    "\n",
    "# 먼저 데이터 정렬\n",
    "student = sorted(['강은지', '김유정', '박현서', '최성훈', '홍유진', '박지호', '권윤일',\n",
    "           '김채리', '한지호', '김진이', '김민호', '강채연'])\n",
    "\n",
    "for i in range(len(student)):            # student 개수만큼 for문으로 반복\n",
    "    print(f\"번호: {i+1}, 이름:{student[i]}\")   # 번호(순서) 및 이름 대입"
   ]
  },
  {
   "cell_type": "code",
   "execution_count": 63,
   "metadata": {},
   "outputs": [
    {
     "name": "stdout",
     "output_type": "stream",
     "text": [
      "번호: 1, 이름:강은지\n",
      "번호: 2, 이름:김유정\n",
      "번호: 3, 이름:박현서\n",
      "번호: 4, 이름:최성훈\n",
      "번호: 5, 이름:홍유진\n",
      "번호: 6, 이름:박지호\n",
      "번호: 7, 이름:권윤일\n",
      "번호: 8, 이름:김채리\n",
      "번호: 9, 이름:한지호\n",
      "번호: 10, 이름:김진이\n",
      "번호: 11, 이름:김민호\n",
      "번호: 12, 이름:강채연\n"
     ]
    }
   ],
   "source": [
    "student = ['강은지', '김유정', '박현서', '최성훈', '홍유진', '박지호', '권윤일',\n",
    "           '김채리', '한지호', '김진이', '김민호', '강채연']\n",
    "\n",
    "for i, v in enumerate(student):             # numbering 해주는 enumerate함수 활용\n",
    "    print(f\"번호: {i+1}, 이름:{v}\")"
   ]
  },
  {
   "cell_type": "code",
   "execution_count": 84,
   "metadata": {},
   "outputs": [
    {
     "name": "stdout",
     "output_type": "stream",
     "text": [
      "20190923\n"
     ]
    }
   ],
   "source": [
    "txt = 'abcdefghij'        # alphabet을 순서대로 나열해서 자리값으로 사용\n",
    "# 2, 0, 1, 9, 0, 9, 2, 3 자리값에 맞는 알파벳으로 숫자 찾기\n",
    "a = str(txt.index('c'))+str(txt.index('a'))+str(txt.index('b'))+str(txt.index('j'))+str(txt.index('a'))+str(txt.index('j'))+str(txt.index('c'))+str(txt.index('d'))\n",
    "print(a)        #출력"
   ]
  },
  {
   "cell_type": "code",
   "execution_count": 126,
   "metadata": {},
   "outputs": [
    {
     "name": "stdout",
     "output_type": "stream",
     "text": [
      "일요일에 취하면 월요일에 장난아님.\n",
      "일취월장"
     ]
    }
   ],
   "source": [
    "# 5. 입력된 text의 첫번째 글자만 따와서 줄임말 만들기임말 만들기\n",
    "txt = input().split()      # 텍스트 입력받고 잘라서 리스트화\n",
    "for i in txt:              # txt 리스트 길이 만큼 반복\n",
    "    print(i[0], end='')    # 리스트 각 요소의 첫번째 글자만 프린트"
   ]
  },
  {
   "cell_type": "code",
   "execution_count": 120,
   "metadata": {},
   "outputs": [
    {
     "name": "stdout",
     "output_type": "stream",
     "text": [
      "복잡한 세상 편하게 살자.\n",
      "복세편살\n"
     ]
    }
   ],
   "source": [
    "a = input().split()\n",
    "out =''\n",
    "\n",
    "for i in a :\n",
    "    out = out + i[0]\n",
    "\n",
    "print(out)"
   ]
  },
  {
   "cell_type": "code",
   "execution_count": 124,
   "metadata": {},
   "outputs": [
    {
     "name": "stdout",
     "output_type": "stream",
     "text": [
      "일요일에 취하면 월요일에 장난아님.\n",
      "일취월장"
     ]
    }
   ],
   "source": [
    "string = input()\n",
    "for i in range(len(string)):\n",
    "    if i == 0 or string[i-1].isspace():\n",
    "        print(string[i], end='')"
   ]
  },
  {
   "cell_type": "code",
   "execution_count": 132,
   "metadata": {},
   "outputs": [
    {
     "name": "stdout",
     "output_type": "stream",
     "text": [
      "23423\n",
      "5자리수\n"
     ]
    }
   ],
   "source": [
    "# 6. 양의 정수만 입력으로 받고, 그 수의 자릿수 출력\n",
    "\n",
    "print(f\"{len(input())}자리수\")      # 입력받은 값의 길이 출력(len 함수 활용)"
   ]
  },
  {
   "cell_type": "code",
   "execution_count": 144,
   "metadata": {},
   "outputs": [
    {
     "name": "stdout",
     "output_type": "stream",
     "text": [
      "안녕하세요. 글자수를 세고 있습니다.\n",
      "17\n"
     ]
    }
   ],
   "source": [
    "# 7. 공백을 제외한 글자수만 세는 코드\n",
    "\n",
    "txt = input().split()     # 입력받은 텍스트 리스트화\n",
    "count = 0                 # 글자 개수 초기값 0으로 설정\n",
    "for i in txt:            # 입력받은 텍스트 내에서 반복\n",
    "    count += len(i)      # 텍스트 리스트의 각 요소의 값을 count에 누적 더하기\n",
    "print(count)             # count 최종값 출력"
   ]
  },
  {
   "cell_type": "code",
   "execution_count": 147,
   "metadata": {},
   "outputs": [
    {
     "name": "stdout",
     "output_type": "stream",
     "text": [
      "안녕하세요. 글자수를 세고 있습니다.\n",
      "17\n"
     ]
    }
   ],
   "source": [
    "txt = input()\n",
    "print(len(txt)-txt.count(' '))"
   ]
  },
  {
   "cell_type": "code",
   "execution_count": 148,
   "metadata": {},
   "outputs": [
    {
     "name": "stdout",
     "output_type": "stream",
     "text": [
      "ksjfld sdfsdf\n",
      "12\n"
     ]
    }
   ],
   "source": [
    "a = input()\n",
    "print(len(a.replace(\" \", '')))"
   ]
  },
  {
   "cell_type": "code",
   "execution_count": null,
   "metadata": {},
   "outputs": [],
   "source": []
  }
 ],
 "metadata": {
  "kernelspec": {
   "display_name": "Python 3",
   "language": "python",
   "name": "python3"
  },
  "language_info": {
   "codemirror_mode": {
    "name": "ipython",
    "version": 3
   },
   "file_extension": ".py",
   "mimetype": "text/x-python",
   "name": "python",
   "nbconvert_exporter": "python",
   "pygments_lexer": "ipython3",
   "version": "3.7.6"
  }
 },
 "nbformat": 4,
 "nbformat_minor": 4
}
